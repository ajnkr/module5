{
 "cells": [
  {
   "cell_type": "markdown",
   "id": "0f1dbc20-8ecb-4cc1-989c-e3c04c02cbfd",
   "metadata": {},
   "source": [
    "# DataScience Tools and Ecosystem"
   ]
  },
  {
   "cell_type": "markdown",
   "id": "01c6b9bf-db20-43a4-a064-a8e9b00a2917",
   "metadata": {},
   "source": [
    "In this notebook, Data Science Tools and Ecosystem are summarized."
   ]
  },
  {
   "cell_type": "markdown",
   "id": "7f7037c3-6d41-4c60-befc-2c3fc0bc5458",
   "metadata": {},
   "source": [
    "__Objective:__\n",
    "-  List popular languages for Data Science\n",
    "-  List tools for Data Science\n",
    "-  Show how to use markdown to display text in different ways\n",
    "-  Show how to do basic operations"
   ]
  },
  {
   "cell_type": "markdown",
   "id": "2fb98d3d-18ea-43fe-95ab-b82ab7e284b9",
   "metadata": {},
   "source": [
    "Some of the populat languages that Data Scientists use are:"
   ]
  },
  {
   "cell_type": "markdown",
   "id": "f71fa962-d1be-4e29-9402-54738e1c94b4",
   "metadata": {},
   "source": [
    "1. R\n",
    "2. Python\n",
    "3. SQL"
   ]
  },
  {
   "cell_type": "markdown",
   "id": "7b767e82-df4e-45da-a141-dcaea8588753",
   "metadata": {},
   "source": [
    "Some of the commonly used libraries used by Data Scientists include:"
   ]
  },
  {
   "cell_type": "markdown",
   "id": "193e0285-6a1b-4e5b-8d3b-a74b0162c632",
   "metadata": {},
   "source": [
    "1. TensorFlow\n",
    "2. NumPy\n",
    "3. Plotly"
   ]
  },
  {
   "cell_type": "markdown",
   "id": "240479a1-1eee-41c5-bfb7-ae55a0a1b9c8",
   "metadata": {},
   "source": [
    "| Data Science Tools | \n",
    "|:--------:|\n",
    "| Jupyter |\n",
    "| RStudio |\n",
    "| GitHub |"
   ]
  },
  {
   "cell_type": "markdown",
   "id": "76624863-c70e-4028-971d-757d45fa7b2a",
   "metadata": {},
   "source": [
    "### Below are a few examples of evaluating arithmetic expressions in Python"
   ]
  },
  {
   "cell_type": "code",
   "execution_count": 13,
   "id": "1cea910b-f46a-4935-9fe1-5f51fa59ca6a",
   "metadata": {},
   "outputs": [
    {
     "data": {
      "text/plain": [
       "17"
      ]
     },
     "execution_count": 13,
     "metadata": {},
     "output_type": "execute_result"
    }
   ],
   "source": [
    "#This a simple arithmetic expression to mutiply then add integers\n",
    "(3*4)+5"
   ]
  },
  {
   "cell_type": "code",
   "execution_count": 15,
   "id": "46a5e45a-051e-4bea-a288-c32c769be21a",
   "metadata": {},
   "outputs": [
    {
     "data": {
      "text/plain": [
       "33.333333333333336"
      ]
     },
     "execution_count": 15,
     "metadata": {},
     "output_type": "execute_result"
    }
   ],
   "source": [
    "#This will convert 200 minutes to hours by diving by 60\n",
    "2000/60"
   ]
  },
  {
   "cell_type": "markdown",
   "id": "8ae7951a-f0e9-4537-8186-74f9bb65a0b7",
   "metadata": {},
   "source": [
    "## Author\n",
    "Ajnkr"
   ]
  },
  {
   "cell_type": "code",
   "execution_count": null,
   "id": "fb52bd4d-1ff8-4976-9d77-ab1bf9a8c2c9",
   "metadata": {},
   "outputs": [],
   "source": []
  }
 ],
 "metadata": {
  "kernelspec": {
   "display_name": "Python [conda env:base] *",
   "language": "python",
   "name": "conda-base-py"
  },
  "language_info": {
   "codemirror_mode": {
    "name": "ipython",
    "version": 3
   },
   "file_extension": ".py",
   "mimetype": "text/x-python",
   "name": "python",
   "nbconvert_exporter": "python",
   "pygments_lexer": "ipython3",
   "version": "3.12.7"
  }
 },
 "nbformat": 4,
 "nbformat_minor": 5
}
